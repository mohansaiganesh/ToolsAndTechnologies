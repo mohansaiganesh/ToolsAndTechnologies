{
 "cells": [
  {
   "cell_type": "markdown",
   "metadata": {},
   "source": [
    "## 1.IMPORTS"
   ]
  },
  {
   "cell_type": "code",
   "execution_count": 1,
   "metadata": {},
   "outputs": [],
   "source": [
    "import requests\n",
    "from bs4 import BeautifulSoup"
   ]
  },
  {
   "cell_type": "markdown",
   "metadata": {},
   "source": [
    "## 2. FUNCTIONS"
   ]
  },
  {
   "cell_type": "code",
   "execution_count": 2,
   "metadata": {},
   "outputs": [],
   "source": [
    "def extract_text_from_url_requests(url):\n",
    "    cleaned_text = \"Extracted using requests module\"\n",
    "    try:\n",
    "        headers = {\n",
    "            \"User-Agent\": \"Mozilla/5.0 (Windows NT 10.0; Win64; x64) AppleWebKit/537.36 (KHTML, like Gecko) Chrome/126.0.0.0 Safari/537.36\"\n",
    "        }\n",
    "\n",
    "        # Send an HTTP GET request to the URL\n",
    "        response = requests.get(url, headers=headers, timeout=5)\n",
    "        response.raise_for_status()\n",
    "\n",
    "        # Parse the HTML content of the page\n",
    "        raw_text = BeautifulSoup(response.text, 'html.parser')\n",
    "\n",
    "        # Extract all text from the page\n",
    "        text = raw_text.get_text(separator=\"\\n\")\n",
    "\n",
    "        # Remove empty lines\n",
    "        lines = [line.strip() for line in text.split(\"\\n\") if line.strip()]\n",
    "        cleaned_text = \"\\n\".join(lines)\n",
    "\n",
    "\n",
    "    except requests.exceptions.RequestException as e:\n",
    "        print(f\"An error occurred while fetching the URL: {e}\")\n",
    "        \n",
    "    return cleaned_text.strip()"
   ]
  },
  {
   "cell_type": "markdown",
   "metadata": {},
   "source": [
    "## 3. USAGE"
   ]
  },
  {
   "cell_type": "code",
   "execution_count": 3,
   "metadata": {},
   "outputs": [
    {
     "name": "stdout",
     "output_type": "stream",
     "text": [
      "Software Development Engineer - 2025 (US) - Job ID: 2828235 | Amazon.jobs\n",
      "Skip to main content\n",
      "Home\n",
      "Teams\n",
      "Locations\n",
      "Job categories\n",
      "My career\n",
      "My applications\n",
      "My profile\n",
      "Account security\n",
      "Settings\n",
      "Sign out\n",
      "Resources\n",
      "Disability accommodations\n",
      "Benefits\n",
      "Diversity, equity, and inclusion\n",
      "Interview tips\n",
      "Leadership principles\n",
      "Working at Amazon\n",
      "FAQ\n",
      "×\n",
      "Software Development Engineer - 2025 (US)\n",
      "Job ID: 2828235 | Amazon.com Services LLC\n",
      "Apply now\n",
      "View transcript\n",
      "DESCRIPTION\n",
      "Do you want to solve business challenges through innovative technology? Do you enjoy working on cutting-edge, scalable services technology in a team environment? Do you like working on industry-defining projects that move the needle?\n",
      "At Amazon, we hire the best minds in technology to innovate and build on behalf of our customers. The focus we have on our customers is why we are one of the world’s most beloved brands – customer obsession is part of our company DNA. Our Software Development Engineers (SDEs) use cutting-edge technology to solve complex problems and get to see the impact of their work first-hand.\n",
      "The challenges SDEs solve for at Amazon are big and influence millions of customers, sellers, and products around the world. We are looking for individuals who are passionate about creating new products, features, and services from scratch while managing ambiguity and the pace of a company where development cycles are measured in weeks, not years.\n",
      "Key Job Responsibilities\n",
      "* Collaborate with experienced cross-disciplinary Amazonians to conceive, design, and bring innovative products and services to market.\n",
      "* Design and build innovative technologies in a large distributed computing environment and help lead fundamental changes in the industry.\n",
      "* Create solutions to run predictions on distributed systems with exposure to innovative technologies at incredible scale and speed.\n",
      "* Build distributed storage, index, and query systems that are scalable, fault-tolerant, low cost, and easy to manage/use.\n",
      "* Design and code the right solutions starting with broadly defined problems.\n",
      "* Work in an agile environment to deliver high-quality software.\n",
      "Locations for all SDE roles: The majority of our SDE roles are based in the Greater Seattle/Bellevue, WA, and Arlington, VA area. By applying to this position your application will be considered for all locations we hire for in the United States. This includes, but is not limited to:\n",
      "• AZ (Phoenix, Tempe)\n",
      "• CA (Berkeley, Culver City, Cupertino, East Palo Alto, Irvine, Los Angeles, Manhattan Beach, Palo Alto, San Diego, San Francisco, San Jose, San Luis Obispo, Santa Barbara, Santa Clara, Santa Cruz, Santa Monica, Sunnyvale)\n",
      "• CO (Boulder, Denver)\n",
      "• GA (Atlanta, Kennesaw)\n",
      "• IL (Chicago)\n",
      "• MA (Boston, Cambridge, Hudson, North Reading, Westborough)\n",
      "• MD (Baltimore)\n",
      "• MI (Detroit)\n",
      "• MN (Minneapolis)\n",
      "• NJ (Jersey City)\n",
      "• NY (New York)\n",
      "• OR (Portland)\n",
      "• PA (Philadelphia, Pittsburgh)\n",
      "• TN (Nashville)\n",
      "• TX (Austin, Dallas)\n",
      "• VA (Arlington, Herndon)\n",
      "• WI (Madison)\n",
      "• WA (Bellevue, Seattle, Redmond)\n",
      "***Locations are subject to change. ***\n",
      "Applications are reviewed on a rolling basis. For an update on your status or to confirm your application was submitted successfully, please login to your candidate portal at Amazon.jobs. Amazon works with a high volume of applicants so we appreciate your patience as we review applications.\n",
      "We’re on the lookout for the curious, those who think big and want to define the world of tomorrow. At Amazon, you will grow into the high impact, visionary person you know you’re ready to be. Every day will be filled with exciting new challenges, developing new skills, and achieving personal growth.\n",
      "How often can you say that your work changes the world? At Amazon, you’ll say it often. Join us and define tomorrow.\n",
      "BASIC QUALIFICATIONS\n",
      "- Experience with at least one modern language such as Java, Python, C++, or C# including object-oriented design.\n",
      "- Are 18 years of age or older.\n",
      "- Currently enrolled in or completed a Bachelor's degree or above in Computer Science, Computer Engineering, Data Science, Electrical Engineering, or majors relating to these fields.\n",
      "- Have an expected graduate date between October 2023 - September 2025 and/or graduated within the last 24 months.\n",
      "PREFERRED QUALIFICATIONS\n",
      "- Experience from a technical internship.\n",
      "- Are enrolled in a academic program that is physically located in the United States.\n",
      "- Experience in optimization mathematics such as linear programming and nonlinear optimization.\n",
      "- Experience with distributed, multi-tiered systems, algorithms, and relational databases.\n",
      "- Ability to effectively articulate technical challenges and solutions and adept at handling ambiguous or undefined problems as well as ability to think abstractly.\n",
      "Amazon is committed to a diverse and inclusive workplace. Amazon is an equal opportunity employer and does not discriminate on the basis of race, national origin, gender, gender identity, sexual orientation, protected veteran status, disability, age, or other legally protected status.\n",
      "Our inclusive culture empowers Amazonians to deliver the best results for our customers. If you have a disability and need a workplace accommodation or adjustment during the application and hiring process, including support for the interview or onboarding process, please visit\n",
      "https://amazon.jobs/content/en/how-we-hire/accommodations\n",
      "for more information. If the country/region you’re applying in isn’t listed, please contact your Recruiting Partner.\n",
      "Our compensation reflects the cost of labor across several US geographic markets. The base pay for this position ranges from $99,500/year in our lowest geographic market up to $200,000/year in our highest geographic market. Pay is based on a number of factors including market location and may vary depending on job-related knowledge, skills, and experience. Amazon is a total compensation company. Dependent on the position offered, equity, sign-on payments, and other forms of compensation may be provided as part of a total compensation package, in addition to a full range of medical, financial, and/or other benefits. For more information,  please visit\n",
      "https://www.aboutamazon.com/workplace/employee-benefits\n",
      ". This position will remain posted until filled. Applicants should apply via our internal or external career site.\n",
      "Job details\n",
      "USA, WA, Seattle\n",
      "Jobs for grads\n",
      "Software Development\n",
      "Share this job\n",
      "JOIN US ON\n",
      "Find Careers\n",
      "Job Categories\n",
      "Teams\n",
      "Locations\n",
      "US and EU Military recruiting\n",
      "Warehouse and Hourly Jobs\n",
      "Working At Amazon\n",
      "Culture\n",
      "Benefits\n",
      "Amazon Newsletter\n",
      "Diversity at Amazon\n",
      "Our leadership principles\n",
      "Help\n",
      "FAQ\n",
      "Interview tips\n",
      "Review application status\n",
      "Disability accommodations\n",
      "EU background checks\n",
      "Amazon is committed to a diverse and inclusive workplace. Amazon is an equal opportunity employer and does not discriminate on the basis of race, national origin, gender, gender identity, sexual orientation, protected veteran status, disability, age, or other legally protected status.\n",
      "Privacy and Data\n",
      "Impressum\n",
      "© 1996-2025, Amazon.com, Inc. or its affiliates\n"
     ]
    }
   ],
   "source": [
    "url = \"https://www.amazon.jobs/en/jobs/2828235/software-development-engineer-2025-us\"\n",
    "text_content = extract_text_from_url_requests(url)\n",
    "print(text_content)"
   ]
  }
 ],
 "metadata": {
  "kernelspec": {
   "display_name": "Python 3",
   "language": "python",
   "name": "python3"
  },
  "language_info": {
   "codemirror_mode": {
    "name": "ipython",
    "version": 3
   },
   "file_extension": ".py",
   "mimetype": "text/x-python",
   "name": "python",
   "nbconvert_exporter": "python",
   "pygments_lexer": "ipython3",
   "version": "3.11.8"
  }
 },
 "nbformat": 4,
 "nbformat_minor": 2
}
