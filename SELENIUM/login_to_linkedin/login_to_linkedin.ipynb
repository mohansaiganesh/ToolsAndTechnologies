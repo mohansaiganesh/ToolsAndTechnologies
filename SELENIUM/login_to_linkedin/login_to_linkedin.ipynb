{
 "cells": [
  {
   "cell_type": "markdown",
   "metadata": {},
   "source": [
    "#### 1. IMPORTS"
   ]
  },
  {
   "cell_type": "code",
   "execution_count": 1,
   "metadata": {},
   "outputs": [],
   "source": [
    "from selenium import webdriver\n",
    "from selenium.webdriver.common.by import By\n",
    "from selenium.webdriver.support.ui import WebDriverWait\n",
    "from selenium.webdriver.support import expected_conditions as EC\n",
    "from selenium.webdriver.common.keys import Keys\n",
    "import time"
   ]
  },
  {
   "cell_type": "markdown",
   "metadata": {},
   "source": [
    "#### 2. FUNCTION TO LOGIN TO LINKEDIN"
   ]
  },
  {
   "cell_type": "code",
   "execution_count": 2,
   "metadata": {},
   "outputs": [],
   "source": [
    "def login_to_linkedin(driver,username,password):\n",
    "    try:\n",
    "        # Open LinkedIn login page\n",
    "        driver.get(\"https://www.linkedin.com/login\")\n",
    "        # Wait until the body of the page has loaded, or timeout after 10 seconds\n",
    "        WebDriverWait(driver, 10).until(\n",
    "            EC.presence_of_element_located((By.TAG_NAME, \"body\"))   \n",
    "        )\n",
    "        # time.sleep(2)\n",
    "\n",
    "        # Find and fill the username field\n",
    "        email_field = driver.find_element(By.ID, \"username\")\n",
    "        email_field.send_keys(username)\n",
    "\n",
    "        # Find and fill the password field\n",
    "        password_field = driver.find_element(By.ID, \"password\")\n",
    "        password_field.send_keys(password)\n",
    "\n",
    "        # Submit the form\n",
    "        password_field.send_keys(Keys.RETURN)\n",
    "        time.sleep(5)\n",
    "\n",
    "        # Confirm login by checking the page title or URL\n",
    "        if \"feed\" in driver.current_url:\n",
    "            print(\"Login successful!\")\n",
    "        else:\n",
    "            print(\"Login failed. Check your credentials.\")\n",
    "        \n",
    "    except Exception as e:\n",
    "        # Close the browser\n",
    "        print(str(e))"
   ]
  },
  {
   "cell_type": "markdown",
   "metadata": {},
   "source": [
    "#### 3. INITIALIZATIONS"
   ]
  },
  {
   "cell_type": "code",
   "execution_count": 3,
   "metadata": {},
   "outputs": [],
   "source": [
    "# Initialize WebDriver\n",
    "driver = webdriver.Chrome()\n",
    "\n",
    "# LinkedIn login credentials\n",
    "username = \"\"\n",
    "password = \"\""
   ]
  },
  {
   "cell_type": "markdown",
   "metadata": {},
   "source": [
    "#### 4. USAGE"
   ]
  },
  {
   "cell_type": "code",
   "execution_count": 4,
   "metadata": {},
   "outputs": [
    {
     "name": "stdout",
     "output_type": "stream",
     "text": [
      "Login successful!\n"
     ]
    }
   ],
   "source": [
    "login_to_linkedin(driver,username,password)"
   ]
  }
 ],
 "metadata": {
  "kernelspec": {
   "display_name": "Python 3",
   "language": "python",
   "name": "python3"
  },
  "language_info": {
   "codemirror_mode": {
    "name": "ipython",
    "version": 3
   },
   "file_extension": ".py",
   "mimetype": "text/x-python",
   "name": "python",
   "nbconvert_exporter": "python",
   "pygments_lexer": "ipython3",
   "version": "3.11.8"
  }
 },
 "nbformat": 4,
 "nbformat_minor": 2
}
